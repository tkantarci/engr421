{
 "cells": [
  {
   "cell_type": "code",
   "execution_count": 5,
   "id": "ba36a132-19b0-4120-9fa3-4afd2a78ed79",
   "metadata": {},
   "outputs": [],
   "source": [
    "import math\n",
    "import matplotlib.pyplot as plt\n",
    "import numpy as np\n",
    "import scipy.linalg as linalg\n",
    "import scipy.spatial.distance as dt\n",
    "import scipy.stats as stats\n",
    "\n",
    "group_means = np.array([[-6.0, -1.0],\n",
    "                        [-3.0, +2.0],\n",
    "                        [+3.0, +2.0],\n",
    "                        [+6.0, -1.0]])\n",
    "\n",
    "group_covariances = np.array([[[+0.4, +0.0],\n",
    "                               [+0.0, +4.0]],\n",
    "                              [[+2.4, -2.0],\n",
    "                               [-2.0, +2.4]],\n",
    "                              [[+2.4, +2.0],\n",
    "                               [+2.0, +2.4]],\n",
    "                              [[+0.4, +0.0],\n",
    "                               [+0.0, +4.0]]])\n",
    "\n",
    "# read data into memory\n",
    "data_set = np.genfromtxt(\"hw05_data_set.csv\", delimiter = \",\")\n",
    "\n",
    "# get X values\n",
    "X = data_set[:, [0, 1]]\n",
    "\n",
    "# set number of clusters\n",
    "K = 4"
   ]
  },
  {
   "cell_type": "code",
   "execution_count": 6,
   "id": "81581c0d-33a6-4ddd-8148-575aa9b36a1a",
   "metadata": {},
   "outputs": [],
   "source": [
    "# STEP 2\n",
    "# should return initial parameter estimates\n",
    "# as described in the homework description\n",
    "def initialize_parameters(X, K):\n",
    "    # your implementation starts below\n",
    "    means = np.genfromtxt(\"hw05_initial_centroids.csv\", delimiter = \",\")\n",
    "    D = dt.cdist(means, X)\n",
    "    memberships = np.argmin(D, axis=0)\n",
    "    priors = np.asarray([np.mean(memberships==k) for k in range(K)])\n",
    "    covariances = np.asarray([np.cov(X[memberships == k].T) for k in range(K)])\n",
    "    # your implementation ends above\n",
    "    return(means, covariances, priors)\n",
    "\n",
    "means, covariances, priors = initialize_parameters(X, K)"
   ]
  },
  {
   "cell_type": "code",
   "execution_count": 7,
   "id": "630fa68e-8d28-4c82-b242-3a8c292559bb",
   "metadata": {},
   "outputs": [
    {
     "name": "stdout",
     "output_type": "stream",
     "text": [
      "(4000,)\n"
     ]
    }
   ],
   "source": [
    "def update_memberships(X, memberships, means):\n",
    "    D = dt.cdist(means, X)\n",
    "    memberships = np.argmin(D, axis=0)\n",
    "    return memberships\n",
    "    \n",
    "def update_H(X, H, means, covariances, K):\n",
    "    N = X[:, 0].size\n",
    "    \"\"\"\n",
    "    for i in range(N):\n",
    "        for k in range(K):\n",
    "            mixt_density = stats.multivariate_normal.pdf(X[i] , means[k].T, covariances[k])\n",
    "            H[i][k] = mixt_density * priors[k]\n",
    "    \n",
    "            denom = np.sum([stats.multivariate_normal.pdf(X[i] , means[c].T, covariances[c]) * priors[c] for c in range(K)])\n",
    "            H[i][k] /= denom\n",
    "            \"\"\"\n",
    "\n",
    "    H = np.asarray([ stats.multivariate_normal.pdf(X[i] , means[k].T, covariances[k]) / np.sum([stats.multivariate_normal.pdf(X[i] , means[c].T, covariances[c]) * priors[c] for c in range(K)]) for i in range(N) for k in range(K)])\n",
    "\n",
    "    return H\n",
    "\n",
    "def update_priors(priors, H, K):\n",
    "    N = X[:, 0].size\n",
    "    priors = np.asarray([np.sum(H[:, k]) / N for k in range(K)])\n",
    "    return priors\n",
    "\n",
    "def update_means(means, H, X, K):\n",
    "    N = X[:, 0].size\n",
    "    means = [np.sum([H[i, k] * X[i] for i in range(N)], axis=0) / np.sum(H[:, k]) for k in range(K)]\n",
    "    return means\n",
    "\n",
    "def update_covariances(covariances, means, H, X, K):\n",
    "    N = X[:, 0].size\n",
    "    covariances = [np.sum([H[i, k] * np.matmul((X[i] - means[k])[:, None], (X[i] - means[k])[:, None].T) for i in range(N)], axis=0) / np.sum(H[:, k]) for k in range(K)]\n",
    "    return covariances\n",
    "\n",
    "def iteration(means, covariances, priors, H, X, K):\n",
    "    N = X[:, 0].size\n",
    "\n",
    "    # E Step\n",
    "    H = update_H(X, H, means, covariances, K)\n",
    "\n",
    "    # M Step\n",
    "    priors = update_priors(priors, H, K)\n",
    "    means = update_means(means, H, X, K)\n",
    "    covariances = update_covariances(covariances, means, H, X, K)\n",
    "\n",
    "    return (means, covariances, priors, H)\n",
    "\n",
    "H = update_H(X, H, means, covariances, K)\n",
    "print(H.shape)"
   ]
  },
  {
   "cell_type": "code",
   "execution_count": 4,
   "id": "87cb7c4a-bf77-4a50-9d34-8edbc482b374",
   "metadata": {},
   "outputs": [
    {
     "name": "stdout",
     "output_type": "stream",
     "text": [
      "Iteration 0\n"
     ]
    },
    {
     "ename": "TypeError",
     "evalue": "list indices must be integers or slices, not tuple",
     "output_type": "error",
     "traceback": [
      "\u001b[0;31m---------------------------------------------------------------------------\u001b[0m",
      "\u001b[0;31mTypeError\u001b[0m                                 Traceback (most recent call last)",
      "Cell \u001b[0;32mIn[4], line 10\u001b[0m\n\u001b[1;32m      7\u001b[0m     \u001b[38;5;28mprint\u001b[39m(\u001b[38;5;124mf\u001b[39m\u001b[38;5;124m\"\u001b[39m\u001b[38;5;124mIteration \u001b[39m\u001b[38;5;132;01m{\u001b[39;00mi\u001b[38;5;132;01m}\u001b[39;00m\u001b[38;5;124m\"\u001b[39m)\n\u001b[1;32m      8\u001b[0m     \u001b[38;5;66;03m#print(f\"MEANS: {means}\\n\\n, COVARIANCES: {covariances} \\n\\n, PRIORS: {priors}\\n\\n\")\u001b[39;00m\n\u001b[1;32m      9\u001b[0m     \u001b[38;5;66;03m#print(np.sum(H, axis = 1)[0])\u001b[39;00m\n\u001b[0;32m---> 10\u001b[0m     means, covariances, priors, H \u001b[38;5;241m=\u001b[39m iteration(means, covariances, priors, H, X, K)\n\u001b[1;32m     12\u001b[0m \u001b[38;5;28mprint\u001b[39m(means, priors)\n",
      "Cell \u001b[0;32mIn[3], line 44\u001b[0m, in \u001b[0;36miteration\u001b[0;34m(means, covariances, priors, H, X, K)\u001b[0m\n\u001b[1;32m     41\u001b[0m H \u001b[38;5;241m=\u001b[39m update_H(X, H, means, covariances, K)\n\u001b[1;32m     43\u001b[0m \u001b[38;5;66;03m# M Step\u001b[39;00m\n\u001b[0;32m---> 44\u001b[0m priors \u001b[38;5;241m=\u001b[39m update_priors(priors, H, K)\n\u001b[1;32m     45\u001b[0m means \u001b[38;5;241m=\u001b[39m update_means(means, H, X, K)\n\u001b[1;32m     46\u001b[0m covariances \u001b[38;5;241m=\u001b[39m update_covariances(covariances, means, H, X, K)\n",
      "Cell \u001b[0;32mIn[3], line 24\u001b[0m, in \u001b[0;36mupdate_priors\u001b[0;34m(priors, H, K)\u001b[0m\n\u001b[1;32m     22\u001b[0m \u001b[38;5;28;01mdef\u001b[39;00m \u001b[38;5;21mupdate_priors\u001b[39m(priors, H, K):\n\u001b[1;32m     23\u001b[0m     N \u001b[38;5;241m=\u001b[39m X[:, \u001b[38;5;241m0\u001b[39m]\u001b[38;5;241m.\u001b[39msize\n\u001b[0;32m---> 24\u001b[0m     priors \u001b[38;5;241m=\u001b[39m np\u001b[38;5;241m.\u001b[39masarray([np\u001b[38;5;241m.\u001b[39msum(H[:, k]) \u001b[38;5;241m/\u001b[39m N \u001b[38;5;28;01mfor\u001b[39;00m k \u001b[38;5;129;01min\u001b[39;00m \u001b[38;5;28mrange\u001b[39m(K)])\n\u001b[1;32m     25\u001b[0m     \u001b[38;5;28;01mreturn\u001b[39;00m priors\n",
      "Cell \u001b[0;32mIn[3], line 24\u001b[0m, in \u001b[0;36m<listcomp>\u001b[0;34m(.0)\u001b[0m\n\u001b[1;32m     22\u001b[0m \u001b[38;5;28;01mdef\u001b[39;00m \u001b[38;5;21mupdate_priors\u001b[39m(priors, H, K):\n\u001b[1;32m     23\u001b[0m     N \u001b[38;5;241m=\u001b[39m X[:, \u001b[38;5;241m0\u001b[39m]\u001b[38;5;241m.\u001b[39msize\n\u001b[0;32m---> 24\u001b[0m     priors \u001b[38;5;241m=\u001b[39m np\u001b[38;5;241m.\u001b[39masarray([np\u001b[38;5;241m.\u001b[39msum(H[:, k]) \u001b[38;5;241m/\u001b[39m N \u001b[38;5;28;01mfor\u001b[39;00m k \u001b[38;5;129;01min\u001b[39;00m \u001b[38;5;28mrange\u001b[39m(K)])\n\u001b[1;32m     25\u001b[0m     \u001b[38;5;28;01mreturn\u001b[39;00m priors\n",
      "\u001b[0;31mTypeError\u001b[0m: list indices must be integers or slices, not tuple"
     ]
    }
   ],
   "source": [
    "# Initialize H matrix\n",
    "H = np.empty((X[:, 0].size, K))\n",
    "H = update_H(X, H, means, covariances, K)\n",
    "\n",
    "ITER_COUNT = 100\n",
    "for i in range(ITER_COUNT):\n",
    "    print(f\"Iteration {i}\")\n",
    "    #print(f\"MEANS: {means}\\n\\n, COVARIANCES: {covariances} \\n\\n, PRIORS: {priors}\\n\\n\")\n",
    "    #print(np.sum(H, axis = 1)[0])\n",
    "    means, covariances, priors, H = iteration(means, covariances, priors, H, X, K)\n",
    "\n",
    "print(means, priors)"
   ]
  },
  {
   "cell_type": "code",
   "execution_count": null,
   "id": "235cc0ee-e10c-46c8-8754-a39915adf562",
   "metadata": {},
   "outputs": [],
   "source": [
    "# STEP 3\n",
    "# should return final parameter estimates of\n",
    "# EM clustering algorithm\n",
    "def em_clustering_algorithm(X, K, means, covariances, priors):\n",
    "    # your implementation starts below\n",
    "    \n",
    "    # H = N x K\n",
    "    # your implementation ends above\n",
    "    return(means, covariances, priors, assignments)\n",
    "\n",
    "means, covariances, priors, assignments = em_clustering_algorithm(X, K, means, covariances, priors)\n",
    "print(means)\n",
    "print(priors)"
   ]
  },
  {
   "cell_type": "code",
   "execution_count": null,
   "id": "f8e029b2-809c-4c27-892d-7132c4cdca36",
   "metadata": {},
   "outputs": [],
   "source": [
    "# STEP 4\n",
    "# should draw EM clustering results as described\n",
    "# in the homework description\n",
    "def draw_clustering_results(X, K, group_means, group_covariances, means, covariances, assignments):\n",
    "    # your implementation starts below\n",
    "    \n",
    "    # your implementation ends above\n",
    "    \n",
    "draw_clustering_results(X, K, group_means, group_covariances, means, covariances, assignments)"
   ]
  }
 ],
 "metadata": {
  "kernelspec": {
   "display_name": "Python 3 (ipykernel)",
   "language": "python",
   "name": "python3"
  },
  "language_info": {
   "codemirror_mode": {
    "name": "ipython",
    "version": 3
   },
   "file_extension": ".py",
   "mimetype": "text/x-python",
   "name": "python",
   "nbconvert_exporter": "python",
   "pygments_lexer": "ipython3",
   "version": "3.11.7"
  }
 },
 "nbformat": 4,
 "nbformat_minor": 5
}
