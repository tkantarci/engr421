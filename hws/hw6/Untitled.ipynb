{
 "cells": [
  {
   "cell_type": "code",
   "execution_count": 52,
   "id": "98c4b3cd-a6c3-4f36-a71a-3e010c212a0e",
   "metadata": {},
   "outputs": [],
   "source": [
    "import matplotlib.pyplot as plt\n",
    "import numpy as np\n",
    "\n",
    "true_labels = np.genfromtxt(\"hw06_true_labels.csv\", delimiter = \",\", dtype = \"int\")\n",
    "predicted_probabilities = np.genfromtxt(\"hw06_predicted_probabilities.csv\", delimiter = \",\")"
   ]
  },
  {
   "cell_type": "code",
   "execution_count": 53,
   "id": "af20b1ca-b7df-4df4-b985-6e7c422c40d3",
   "metadata": {},
   "outputs": [
    {
     "name": "stdout",
     "output_type": "stream",
     "text": [
      "[0.00603665 0.01329955 0.02200585 ... 0.9655685  0.9670935  0.9836335 ]\n"
     ]
    }
   ],
   "source": [
    "# STEP 3\n",
    "# given the predicted probabilities of size (N,),\n",
    "# it should return the calculated thresholds of size (N + 1,)\n",
    "def calculate_threholds(predicted_probabilities):\n",
    "    # your implementation starts below\n",
    "    zero = np.asarray([0]).astype(float)\n",
    "    one = np.asarray([1]).astype(float)\n",
    "    extended_array = np.sort(np.hstack((zero, predicted_probabilities, one)))\n",
    "    thresholds = (extended_array[1:] + extended_array[:-1]) / 2\n",
    "    # your implementation ends above\n",
    "    return thresholds\n",
    "\n",
    "thresholds = calculate_threholds(predicted_probabilities)\n",
    "print(thresholds)\n",
    "\n"
   ]
  },
  {
   "cell_type": "code",
   "execution_count": 54,
   "id": "34cc154f-44e5-43ec-baf7-58e1655b4b9c",
   "metadata": {},
   "outputs": [
    {
     "name": "stdout",
     "output_type": "stream",
     "text": [
      "[1.         0.99802372 0.99604743 ... 0.         0.         0.        ]\n",
      "[1.         1.         1.         ... 0.00404858 0.00202429 0.        ]\n"
     ]
    }
   ],
   "source": [
    "# STEP 4\n",
    "# given the true labels of size (N,), the predicted probabilities of size (N,) and\n",
    "# the thresholds of size (N + 1,), it should return the FP and TP rates of size (N + 1,)\n",
    "def calculate_fp_and_tp_rates(true_labels, predicted_probabilities, thresholds):\n",
    "    # your implementation starts below\n",
    "    N = true_labels.size\n",
    "    fp_rates = np.zeros(N + 1).astype(float)\n",
    "    tp_rates = np.zeros(N + 1).astype(float)\n",
    "    \n",
    "    for i in range(len(thresholds)):\n",
    "        predicted_labels = predicted_probabilities > thresholds[i]\n",
    "        tp_rates[i] = np.sum((predicted_labels == True) & (true_labels == 1)) / np.sum(true_labels == 1)\n",
    "        fp_rates[i] = np.sum((predicted_labels == True) & (true_labels == -1)) / np.sum(true_labels == -1)\n",
    "    # your implementation ends above\n",
    "    return fp_rates, tp_rates\n",
    "\n",
    "fp_rates, tp_rates = calculate_fp_and_tp_rates(true_labels, predicted_probabilities, thresholds)\n",
    "print(fp_rates)\n",
    "print(tp_rates)"
   ]
  },
  {
   "cell_type": "code",
   "execution_count": 66,
   "id": "7f60691e-10c8-4e51-8de2-7aa6340ece44",
   "metadata": {},
   "outputs": [
    {
     "name": "stdout",
     "output_type": "stream",
     "text": [
      "0.9064465283000738\n"
     ]
    }
   ],
   "source": [
    "sum = 0.0 # FLOAT\n",
    "#print((fp_rates[0] - fp_rates[1]) * (tp_rates[0] + tp_rates[1]) / 2)\n",
    "for i in range(len(tp_rates) - 1):\n",
    "    area = (fp_rates[i] - fp_rates[i + 1]) * (tp_rates[i] + tp_rates[i + 1]) / 2\n",
    "    sum += area\n",
    "\n",
    "print(sum)"
   ]
  },
  {
   "cell_type": "code",
   "execution_count": 67,
   "id": "10f5b5f1-297b-42be-90b9-e79014bfbb75",
   "metadata": {},
   "outputs": [
    {
     "name": "stdout",
     "output_type": "stream",
     "text": [
      "0.9064465283000751\n"
     ]
    }
   ],
   "source": [
    "area = np.sum([(fp_rates[i] - fp_rates[i + 1]) * (tp_rates[i] + tp_rates[i + 1]) / 2 for i in range(len(tp_rates) - 1)])\n",
    "print(area)"
   ]
  },
  {
   "cell_type": "code",
   "execution_count": 55,
   "id": "1f67bcac-7ea0-43c9-ae9d-bd1f562da9a1",
   "metadata": {},
   "outputs": [
    {
     "data": {
      "image/png": "[encoded data removed]",
      "text/plain": [
       "<Figure size 500x500 with 1 Axes>"
      ]
     },
     "metadata": {},
     "output_type": "display_data"
    }
   ],
   "source": [
    "fig = plt.figure(figsize = (5, 5))\n",
    "plt.plot(fp_rates, tp_rates)\n",
    "plt.xlabel(\"FP Rate\")\n",
    "plt.ylabel(\"TP Rate\")\n",
    "plt.show()\n",
    "fig.savefig(\"hw06_roc_curve.pdf\", bbox_inches = \"tight\")"
   ]
  },
  {
   "cell_type": "code",
   "execution_count": 68,
   "id": "829eb9f4-aad4-4fd9-8134-7db94f47b515",
   "metadata": {},
   "outputs": [
    {
     "name": "stdout",
     "output_type": "stream",
     "text": [
      "The area under the ROC curve is 0.9064465283000751.\n"
     ]
    }
   ],
   "source": [
    "# STEP 5\n",
    "# given the FP and TP rates of size (N + 1,),\n",
    "# it should return the area under the ROC curve\n",
    "def calculate_auroc(fp_rates, tp_rates):\n",
    "    # your implementation starts below\n",
    "    auroc = np.sum([(fp_rates[i] - fp_rates[i + 1]) * (tp_rates[i] + tp_rates[i + 1]) / 2 for i in range(len(tp_rates) - 1)])\n",
    "    # your implementation ends above\n",
    "    return auroc\n",
    "\n",
    "auroc = calculate_auroc(fp_rates, tp_rates)\n",
    "print(\"The area under the ROC curve is {}.\".format(auroc))"
   ]
  },
  {
   "cell_type": "code",
   "execution_count": null,
   "id": "257be3be-bb58-4ac3-be41-c36ecac5e770",
   "metadata": {},
   "outputs": [],
   "source": []
  }
 ],
 "metadata": {
  "kernelspec": {
   "display_name": "Python 3 (ipykernel)",
   "language": "python",
   "name": "python3"
  },
  "language_info": {
   "codemirror_mode": {
    "name": "ipython",
    "version": 3
   },
   "file_extension": ".py",
   "mimetype": "text/x-python",
   "name": "python",
   "nbconvert_exporter": "python",
   "pygments_lexer": "ipython3",
   "version": "3.11.7"
  }
 },
 "nbformat": 4,
 "nbformat_minor": 5
}
