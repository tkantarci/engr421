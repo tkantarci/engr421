{
 "cells": [
  {
   "cell_type": "code",
   "execution_count": 1,
   "id": "cc8323f7-4d3c-4f9d-b47e-e764fb90128f",
   "metadata": {},
   "outputs": [],
   "source": [
    "import matplotlib.pyplot as plt\n",
    "import numpy as np\n",
    "import pandas as pd"
   ]
  },
  {
   "cell_type": "code",
   "execution_count": 2,
   "id": "c66e634c-709b-4c8d-a132-a3a3b01c3e66",
   "metadata": {},
   "outputs": [],
   "source": [
    "X = np.genfromtxt(\"hw01_data_points.csv\", delimiter = \",\", dtype = str)\n",
    "y = np.genfromtxt(\"hw01_class_labels.csv\", delimiter = \",\", dtype = int)"
   ]
  },
  {
   "cell_type": "code",
   "execution_count": 3,
   "id": "0dd25775-b82b-4b33-bd15-427993b5195c",
   "metadata": {},
   "outputs": [
    {
     "name": "stdout",
     "output_type": "stream",
     "text": [
      "(50000, 21)\n",
      "(50000,)\n",
      "(44727, 21)\n",
      "(44727,)\n"
     ]
    }
   ],
   "source": [
    "#array[row_start:row_stop:row_step, col_start:col_stop:col_step]\n",
    "def train_test_split(X, y):\n",
    "    X_train = X[:50000]\n",
    "    y_train = y[:50000]\n",
    "    \n",
    "    X_test = X[50000:]\n",
    "    y_test = y[50000:]\n",
    "    return X_train, y_train, X_test, y_test\n",
    "\n",
    "X_train, y_train, X_test, y_test = train_test_split(X, y)\n",
    "\n",
    "print(X_train.shape)\n",
    "print(y_train.shape)\n",
    "\n",
    "print(X_test.shape)\n",
    "print(y_test.shape)"
   ]
  },
  {
   "cell_type": "code",
   "execution_count": 4,
   "id": "f32a825e-8b6f-4804-87af-6a46f4051356",
   "metadata": {},
   "outputs": [
    {
     "name": "stdout",
     "output_type": "stream",
     "text": [
      "[0.04466, 0.95534]\n"
     ]
    }
   ],
   "source": [
    "def estimate_prior_probabilities(y):\n",
    "    return [np.mean(y == c) for c in (1, 2)]\n",
    "\n",
    "class_priors = estimate_prior_probabilities(y_train)\n",
    "print(class_priors)"
   ]
  },
  {
   "cell_type": "code",
   "execution_count": 5,
   "id": "9ddba56d-a938-4296-9577-2ba121e6336e",
   "metadata": {},
   "outputs": [],
   "source": [
    "def estimate_nucleotide_probabilities(X, y):\n",
    "    bases = [\"A\", \"C\", \"G\", \"T\"]\n",
    "    pAcd = [np.average(X == \"A\", axis=0, weights=(y == c)) for c in (1, 2)]\n",
    "    pCcd = [np.average(X == \"C\", axis=0, weights=(y == c)) for c in (1, 2)]\n",
    "    pGcd = [np.average(X == \"G\", axis=0, weights=(y == c)) for c in (1, 2)]\n",
    "    pTcd = [np.average(X == \"T\", axis=0, weights=(y == c)) for c in (1, 2)]\n",
    "    return pAcd, pCcd, pGcd, pTcd"
   ]
  },
  {
   "cell_type": "code",
   "execution_count": 6,
   "id": "22e1a1dc-bebd-455e-bfbb-2133104ed150",
   "metadata": {},
   "outputs": [
    {
     "name": "stdout",
     "output_type": "stream",
     "text": [
      "[array([0.18674429, 0.17913121, 0.1437528 , 0.13390058, 0.11912226,\n",
      "       0.11374832, 0.10523959, 0.10076131, 0.08687864, 0.07613077,\n",
      "       0.06941335, 0.08687864, 0.10120914, 0.09628303, 0.08105687,\n",
      "       0.07926556, 0.23510972, 0.05015674, 0.24540976, 0.23734886,\n",
      "       0.2539185 ]), array([0.26832332, 0.27719974, 0.2723219 , 0.25808613, 0.28153328,\n",
      "       0.27784872, 0.27219629, 0.26087048, 0.25488308, 0.26618795,\n",
      "       0.27385015, 0.26955848, 0.28913266, 0.28486193, 0.27694852,\n",
      "       0.25260117, 0.27766031, 0.24981682, 0.28335462, 0.28025624,\n",
      "       0.29279628])]\n",
      "[array([0.28616211, 0.28526646, 0.28571429, 0.29422302, 0.31168831,\n",
      "       0.31751008, 0.31034483, 0.31258397, 0.29735781, 0.28034035,\n",
      "       0.30541872, 0.31840573, 0.33811017, 0.36945813, 0.38916256,\n",
      "       0.33990148, 0.2955665 , 0.67845947, 0.14464845, 0.21988356,\n",
      "       0.2539185 ]), array([0.22821195, 0.22961459, 0.22318756, 0.22536479, 0.21688613,\n",
      "       0.22747922, 0.22278979, 0.22431804, 0.24516926, 0.22618125,\n",
      "       0.20903553, 0.21158959, 0.20369711, 0.20145707, 0.22607658,\n",
      "       0.24527393, 0.21198736, 0.32248205, 0.22067536, 0.24414345,\n",
      "       0.210815  ])]\n",
      "[array([0.15718764, 0.15002239, 0.1518137 , 0.14285714, 0.14420063,\n",
      "       0.13166144, 0.12628751, 0.11912226, 0.09180475, 0.10120914,\n",
      "       0.11150918, 0.11733094, 0.11330049, 0.08687864, 0.06180027,\n",
      "       0.06180027, 0.21361397, 0.00134348, 0.50022391, 0.18898343,\n",
      "       0.2221227 ]), array([0.23763268, 0.23371784, 0.2370465 , 0.23957963, 0.24077292,\n",
      "       0.24613227, 0.24098227, 0.24696967, 0.23233613, 0.24558796,\n",
      "       0.25802332, 0.26143572, 0.25800239, 0.2659158 , 0.24190341,\n",
      "       0.24449934, 0.26585299, 0.26924446, 0.28672514, 0.23241987,\n",
      "       0.24140097])]\n",
      "[array([0.36990596, 0.38557994, 0.41871921, 0.42901926, 0.4249888 ,\n",
      "       0.43708016, 0.45812808, 0.46753247, 0.5239588 , 0.54231975,\n",
      "       0.51365876, 0.47738468, 0.44738021, 0.44738021, 0.4679803 ,\n",
      "       0.51903269, 0.25570981, 0.2700403 , 0.10971787, 0.35378415,\n",
      "       0.2700403 ]), array([0.26583206, 0.25946783, 0.26744405, 0.27696946, 0.26080767,\n",
      "       0.24853979, 0.26403165, 0.26784182, 0.26761153, 0.26204283,\n",
      "       0.259091  , 0.25741621, 0.24916784, 0.24776519, 0.25507149,\n",
      "       0.25762556, 0.24449934, 0.15845668, 0.20924488, 0.24318044,\n",
      "       0.25498775])]\n"
     ]
    }
   ],
   "source": [
    "pAcd, pCcd, pGcd, pTcd = estimate_nucleotide_probabilities(X_train, y_train)\n",
    "print(pAcd)\n",
    "print(pCcd)\n",
    "print(pGcd)\n",
    "print(pTcd)"
   ]
  },
  {
   "cell_type": "code",
   "execution_count": 7,
   "id": "30a7f9d6-49ca-4aa5-96a8-f8c69833d5b6",
   "metadata": {},
   "outputs": [
    {
     "name": "stdout",
     "output_type": "stream",
     "text": [
      "(50000, 2)\n"
     ]
    }
   ],
   "source": [
    "scores = np.zeros(2 * len(X_train)).reshape(len(X_train), 2)\n",
    "print(scores.shape)\n",
    "\n",
    "def calculate_score_values(X, pAcd, pCcd, pGcd, pTcd, class_priors):\n",
    "    scores = np.zeros(2 * len(X)).reshape(len(X), 2)\n",
    "    for c in range(len(class_priors)):\n",
    "        for i in range(len(X)):\n",
    "            sum = 0\n",
    "            for d in range(len(X[0])):\n",
    "                if (X[i][d] == \"A\"):\n",
    "                    sum += np.log(pAcd[c - 1][d])\n",
    "                if (X[i][d] == \"C\"):\n",
    "                    sum += np.log(pCcd[c - 1][d])\n",
    "                if (X[i][d] == \"G\"): \n",
    "                    sum += np.log(pGcd[c - 1][d])\n",
    "                if (X[i][d] == \"T\"):\n",
    "                    sum += np.log(pTcd[c - 1][d])\n",
    "            scores[i][c - 1] = sum + np.log(class_priors[c - 1]) \n",
    "    return scores"
   ]
  },
  {
   "cell_type": "code",
   "execution_count": 8,
   "id": "ef67e6f7-dc39-4c29-81c1-2024f7d36c8a",
   "metadata": {},
   "outputs": [
    {
     "name": "stdout",
     "output_type": "stream",
     "text": [
      "[[-32.29602984 -28.67631805]\n",
      " [-35.36510932 -29.06687849]\n",
      " [-33.1594779  -28.50829296]\n",
      " ...\n",
      " [-37.17901126 -29.28659414]\n",
      " [-35.6365549  -29.75138901]\n",
      " [-28.72885394 -28.68471489]]\n",
      "[[-31.88852108 -28.73182527]\n",
      " [-40.83809258 -29.40573888]\n",
      " [-30.6177392  -29.98270774]\n",
      " ...\n",
      " [-38.49757139 -28.9923932 ]\n",
      " [-24.40343148 -29.115305  ]\n",
      " [-37.58089652 -28.27846954]]\n"
     ]
    }
   ],
   "source": [
    "scores_train = calculate_score_values(X_train, pAcd, pCcd, pGcd, pTcd, class_priors)\n",
    "print(scores_train)\n",
    "\n",
    "scores_test = calculate_score_values(X_test, pAcd, pCcd, pGcd, pTcd, class_priors)\n",
    "print(scores_test)"
   ]
  },
  {
   "cell_type": "code",
   "execution_count": 9,
   "id": "1d215446-8648-49ad-aded-48a68bbb4e75",
   "metadata": {},
   "outputs": [],
   "source": [
    "def calculate_confusion_matrix(y, scores):\n",
    "    predicted_vals = np.zeros(len(scores))\n",
    "    \n",
    "    for i, score in enumerate(scores):\n",
    "        if (score[0] > score[1]):\n",
    "            predicted_vals[i] = 1\n",
    "        else:\n",
    "            predicted_vals[i] = 2\n",
    "    \n",
    "    confusion_matrix = pd.crosstab(predicted_vals.T, y.T)\n",
    "    return confusion_matrix"
   ]
  },
  {
   "cell_type": "code",
   "execution_count": 10,
   "id": "91bcf651-f4db-4cd4-97a0-2d42d0f584ee",
   "metadata": {},
   "outputs": [
    {
     "name": "stdout",
     "output_type": "stream",
     "text": [
      "col_0     1      2\n",
      "row_0             \n",
      "1.0    1489   1460\n",
      "2.0     744  46307\n"
     ]
    }
   ],
   "source": [
    "confusion_train = calculate_confusion_matrix(y_train, scores_train)\n",
    "print(confusion_train)"
   ]
  },
  {
   "cell_type": "code",
   "execution_count": 11,
   "id": "fc92332e-a9c6-413f-90bc-f2970b0cc445",
   "metadata": {},
   "outputs": [
    {
     "name": "stdout",
     "output_type": "stream",
     "text": [
      "col_0     1      2\n",
      "row_0             \n",
      "1.0    1314   1300\n",
      "2.0     686  41427\n"
     ]
    }
   ],
   "source": [
    "confusion_test = calculate_confusion_matrix(y_test, scores_test)\n",
    "print(confusion_test)"
   ]
  },
  {
   "cell_type": "code",
   "execution_count": null,
   "id": "0b4c2fa0-eb4f-4c0b-a9cb-f8b3142855c1",
   "metadata": {},
   "outputs": [],
   "source": []
  }
 ],
 "metadata": {
  "kernelspec": {
   "display_name": "Python 3 (ipykernel)",
   "language": "python",
   "name": "python3"
  },
  "language_info": {
   "codemirror_mode": {
    "name": "ipython",
    "version": 3
   },
   "file_extension": ".py",
   "mimetype": "text/x-python",
   "name": "python",
   "nbconvert_exporter": "python",
   "pygments_lexer": "ipython3",
   "version": "3.11.6"
  }
 },
 "nbformat": 4,
 "nbformat_minor": 5
}
